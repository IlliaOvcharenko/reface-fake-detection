{
 "cells": [
  {
   "cell_type": "code",
   "execution_count": 1,
   "id": "4b84f338-18a8-4606-a534-f1e5ba6fe140",
   "metadata": {},
   "outputs": [
    {
     "name": "stdout",
     "output_type": "stream",
     "text": [
      "/home/devel/notwork/reface-fake-detection\n"
     ]
    }
   ],
   "source": [
    "%cd .."
   ]
  },
  {
   "cell_type": "code",
   "execution_count": 2,
   "id": "51685d34-8816-4947-ab26-b849d21631df",
   "metadata": {},
   "outputs": [],
   "source": [
    "%load_ext autoreload\n",
    "%autoreload 2"
   ]
  },
  {
   "cell_type": "code",
   "execution_count": 3,
   "id": "6ccb1a17-18a8-4010-991d-37029164a80b",
   "metadata": {},
   "outputs": [],
   "source": [
    "import pandas as pd\n",
    "import numpy as np\n",
    "\n",
    "from pathlib import Path"
   ]
  },
  {
   "cell_type": "code",
   "execution_count": 5,
   "id": "87d91f93-92cb-4623-8e96-ed7a86e7994b",
   "metadata": {},
   "outputs": [],
   "source": [
    "gt = pd.read_csv(\"data/train.csv\")"
   ]
  },
  {
   "cell_type": "code",
   "execution_count": 12,
   "id": "06a67f4f-38ab-40fa-8668-8070c5e97f0a",
   "metadata": {},
   "outputs": [
    {
     "data": {
      "text/plain": [
       "0.3412939432958383"
      ]
     },
     "execution_count": 12,
     "metadata": {},
     "output_type": "execute_result"
    }
   ],
   "source": [
    "gt[\"label\"].sum() / len(gt)"
   ]
  },
  {
   "cell_type": "code",
   "execution_count": 17,
   "id": "14221472-2059-4245-a23a-4fce1864f931",
   "metadata": {},
   "outputs": [],
   "source": [
    "pred = pd.read_csv(\"preds/submission-fixed.csv\")"
   ]
  },
  {
   "cell_type": "code",
   "execution_count": 18,
   "id": "9b76ccfb-7fb4-487c-b72f-ed0a100913eb",
   "metadata": {},
   "outputs": [
    {
     "data": {
      "text/plain": [
       "0.3514667865572665"
      ]
     },
     "execution_count": 18,
     "metadata": {},
     "output_type": "execute_result"
    }
   ],
   "source": [
    "pred[\"label\"].sum() / len(pred)"
   ]
  },
  {
   "cell_type": "code",
   "execution_count": 19,
   "id": "e713bbfe-36ee-4188-acd6-7954a044ebf8",
   "metadata": {},
   "outputs": [],
   "source": [
    "pred_first = pd.read_csv(\"preds/submission-fixed.csv\")\n",
    "pred_second = pd.read_csv(\"preds/submission-faces.csv\")"
   ]
  },
  {
   "cell_type": "code",
   "execution_count": 23,
   "id": "e21f67ce-c958-462b-804f-5b3641b5243e",
   "metadata": {},
   "outputs": [
    {
     "data": {
      "text/plain": [
       "0.823817016972013"
      ]
     },
     "execution_count": 23,
     "metadata": {},
     "output_type": "execute_result"
    }
   ],
   "source": [
    "(pred_first.label == pred_second.label).sum() / len(pred_first)"
   ]
  }
 ],
 "metadata": {
  "kernelspec": {
   "display_name": "Python 3 (ipykernel)",
   "language": "python",
   "name": "python3"
  },
  "language_info": {
   "codemirror_mode": {
    "name": "ipython",
    "version": 3
   },
   "file_extension": ".py",
   "mimetype": "text/x-python",
   "name": "python",
   "nbconvert_exporter": "python",
   "pygments_lexer": "ipython3",
   "version": "3.7.11"
  }
 },
 "nbformat": 4,
 "nbformat_minor": 5
}
