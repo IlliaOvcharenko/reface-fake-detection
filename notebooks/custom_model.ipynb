{
 "cells": [
  {
   "cell_type": "code",
   "execution_count": 1,
   "id": "7b15e1fb-87c1-4da4-9d78-27715176d531",
   "metadata": {},
   "outputs": [
    {
     "name": "stdout",
     "output_type": "stream",
     "text": [
      "/home/devel/notwork/reface-fake-detection\n"
     ]
    }
   ],
   "source": [
    "%cd .."
   ]
  },
  {
   "cell_type": "code",
   "execution_count": 2,
   "id": "b64234f5-d6cc-4e06-9856-0de864dee50d",
   "metadata": {},
   "outputs": [],
   "source": [
    "%load_ext autoreload\n",
    "%autoreload 2"
   ]
  },
  {
   "cell_type": "code",
   "execution_count": 3,
   "id": "61703f09-2de5-49bb-83e3-0fe853a715db",
   "metadata": {},
   "outputs": [],
   "source": [
    "import torch\n",
    "import torchvision \n",
    "\n",
    "from efficientnet_pytorch import EfficientNet"
   ]
  },
  {
   "cell_type": "code",
   "execution_count": 7,
   "id": "9bab5e69-a333-40a5-8b47-96de53c14d2d",
   "metadata": {},
   "outputs": [
    {
     "name": "stdout",
     "output_type": "stream",
     "text": [
      "Loaded pretrained weights for efficientnet-b0\n"
     ]
    }
   ],
   "source": [
    "class CustomModel(torch.nn.Module):\n",
    "    def __init__(self, model_name=\"efficientnet-b0\", in_channels=12, num_classes=2):\n",
    "        super().__init__()\n",
    "        \n",
    "        self.encoder = EfficientNet.from_pretrained(model_name, in_channels=3)\n",
    "        layers_to_remove = [\"_fc\", \"_swish\"]\n",
    "        for l in layers_to_remove:\n",
    "            setattr(self.encoder, l, torch.nn.Identity())\n",
    "        \n",
    "        self.in_images = in_channels // 3\n",
    "        self.head = torch.nn.Sequential(\n",
    "            torch.nn.Linear(self.in_images * 1280, 1280),\n",
    "            torch.nn.BatchNorm1d(1280),\n",
    "            torch.nn.ReLU(),\n",
    "            torch.nn.Linear(1280, 128),\n",
    "            torch.nn.BatchNorm1d(128),\n",
    "            torch.nn.ReLU(),\n",
    "            torch.nn.Linear(128, num_classes)\n",
    "        )\n",
    "        \n",
    "    def forward(self, x):\n",
    "        encoded = []\n",
    "        for i in range(self.in_images):\n",
    "            img = x[:, i*3:i*3+3, :, :]\n",
    "            encoded.append(self.encoder(img))\n",
    "            \n",
    "        features = torch.cat(encoded, 1)\n",
    "        out = self.head(features)\n",
    "        return out\n",
    "    \n",
    "model = CustomModel()"
   ]
  },
  {
   "cell_type": "code",
   "execution_count": 6,
   "id": "4ae025ce-755a-4bcf-b4bc-dd3bde8aced4",
   "metadata": {},
   "outputs": [
    {
     "name": "stdout",
     "output_type": "stream",
     "text": [
      "torch.Size([64, 1280])\n",
      "torch.Size([64, 5120])\n"
     ]
    },
    {
     "data": {
      "text/plain": [
       "torch.Size([64, 2])"
      ]
     },
     "execution_count": 6,
     "metadata": {},
     "output_type": "execute_result"
    }
   ],
   "source": [
    "model(torch.rand(64, 12, 256, 256)).shape"
   ]
  },
  {
   "cell_type": "code",
   "execution_count": 29,
   "id": "79a2c1be-4da1-4ec2-8810-73c3e9ed83e4",
   "metadata": {},
   "outputs": [
    {
     "name": "stdout",
     "output_type": "stream",
     "text": [
      "Loaded pretrained weights for efficientnet-b0\n"
     ]
    }
   ],
   "source": [
    "m = EfficientNet.from_pretrained(\"efficientnet-b0\")"
   ]
  },
  {
   "cell_type": "code",
   "execution_count": 37,
   "id": "dd5ff334-3302-4d7f-92af-53066679c5ad",
   "metadata": {},
   "outputs": [],
   "source": [
    "setattr(m, \"_swish\", torch.nn.Identity())"
   ]
  },
  {
   "cell_type": "code",
   "execution_count": null,
   "id": "fbd66eef-be15-4f95-b042-e6c089012083",
   "metadata": {},
   "outputs": [],
   "source": [
    "EfficientNet.from_pretrained(\"efficientnet-b0\").half"
   ]
  }
 ],
 "metadata": {
  "kernelspec": {
   "display_name": "Python 3 (ipykernel)",
   "language": "python",
   "name": "python3"
  },
  "language_info": {
   "codemirror_mode": {
    "name": "ipython",
    "version": 3
   },
   "file_extension": ".py",
   "mimetype": "text/x-python",
   "name": "python",
   "nbconvert_exporter": "python",
   "pygments_lexer": "ipython3",
   "version": "3.7.11"
  }
 },
 "nbformat": 4,
 "nbformat_minor": 5
}
