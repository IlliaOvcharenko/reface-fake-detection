{
 "cells": [
  {
   "cell_type": "code",
   "execution_count": 1,
   "id": "42c4bca7-a132-4ec7-a0df-28957bc2747f",
   "metadata": {},
   "outputs": [],
   "source": [
    "%load_ext autoreload\n",
    "%autoreload 2"
   ]
  },
  {
   "cell_type": "code",
   "execution_count": 2,
   "id": "25c99986-f882-49ee-8d39-bbf7d0c0847a",
   "metadata": {},
   "outputs": [
    {
     "name": "stdout",
     "output_type": "stream",
     "text": [
      "/home/devel/notwork/reface-fake-detection\n"
     ]
    }
   ],
   "source": [
    "%cd .."
   ]
  },
  {
   "cell_type": "code",
   "execution_count": 3,
   "id": "40447f5a-3d63-475e-af66-abd407ceb85c",
   "metadata": {},
   "outputs": [],
   "source": [
    "import pandas as pd\n",
    "\n",
    "from pathlib import Path\n",
    "\n",
    "from src.utils import load_splits"
   ]
  },
  {
   "cell_type": "code",
   "execution_count": 4,
   "id": "65417701-914f-4b0e-a9fe-ba0b9ef18c72",
   "metadata": {},
   "outputs": [],
   "source": [
    "folds_folder = Path(\"data/folds-v3\")\n",
    "split_folder = Path(\"data/splits\")"
   ]
  },
  {
   "cell_type": "code",
   "execution_count": 5,
   "id": "5c7ed356-9f65-40a7-99a7-1d230b89584c",
   "metadata": {},
   "outputs": [],
   "source": [
    "tr_df, val_df = pd.read_csv(split_folder / \"train.csv\"), pd.read_csv(split_folder / \"val.csv\")"
   ]
  },
  {
   "cell_type": "code",
   "execution_count": 6,
   "id": "3479d924-c7cc-4267-947b-98b48b1ac9d0",
   "metadata": {},
   "outputs": [
    {
     "name": "stdout",
     "output_type": "stream",
     "text": [
      "0.3412900874635568\n",
      "0.3413093647516094\n"
     ]
    }
   ],
   "source": [
    "tr_df.shape, val_df.shape\n",
    "print(tr_df.label.sum() / len(tr_df))\n",
    "print(val_df.label.sum() / len(val_df))"
   ]
  },
  {
   "cell_type": "code",
   "execution_count": 7,
   "id": "af2a4406-1f54-42d6-bacc-3b98e10bb2e2",
   "metadata": {},
   "outputs": [
    {
     "name": "stdout",
     "output_type": "stream",
     "text": [
      "[0] [3, 4, 2, 1]\n",
      "[1] [3, 0, 4, 2]\n",
      "[2] [3, 0, 4, 1]\n",
      "[3] [0, 4, 2, 1]\n",
      "[4] [3, 0, 2, 1]\n"
     ]
    }
   ],
   "source": [
    "folds = [load_splits(folds_folder, val_folds=i) for i in range(5)]"
   ]
  },
  {
   "cell_type": "code",
   "execution_count": 8,
   "id": "55b20952-9002-47c3-9fa1-558e4d13ae43",
   "metadata": {},
   "outputs": [
    {
     "data": {
      "text/plain": [
       "24697"
      ]
     },
     "execution_count": 8,
     "metadata": {},
     "output_type": "execute_result"
    }
   ],
   "source": [
    "len(set(folds[4][0].filename) & set(folds[1][0].filename))"
   ]
  },
  {
   "cell_type": "code",
   "execution_count": 12,
   "id": "74ff4b35-7227-4976-b0ee-765c10a5c418",
   "metadata": {},
   "outputs": [
    {
     "data": {
      "text/html": [
       "<div>\n",
       "<style scoped>\n",
       "    .dataframe tbody tr th:only-of-type {\n",
       "        vertical-align: middle;\n",
       "    }\n",
       "\n",
       "    .dataframe tbody tr th {\n",
       "        vertical-align: top;\n",
       "    }\n",
       "\n",
       "    .dataframe thead th {\n",
       "        text-align: right;\n",
       "    }\n",
       "</style>\n",
       "<table border=\"1\" class=\"dataframe\">\n",
       "  <thead>\n",
       "    <tr style=\"text-align: right;\">\n",
       "      <th></th>\n",
       "      <th>filename</th>\n",
       "      <th>label</th>\n",
       "    </tr>\n",
       "  </thead>\n",
       "  <tbody>\n",
       "    <tr>\n",
       "      <th>0</th>\n",
       "      <td>hbpftunjjtmtdpryrphflbayyrtiglvi.mp4</td>\n",
       "      <td>0</td>\n",
       "    </tr>\n",
       "    <tr>\n",
       "      <th>1</th>\n",
       "      <td>cvxvolmegmnncexlpbmsshvsbiwldzlj.mp4</td>\n",
       "      <td>0</td>\n",
       "    </tr>\n",
       "    <tr>\n",
       "      <th>2</th>\n",
       "      <td>mzehjhnblzxvhndmxwarnbxaktggxxto.mp4</td>\n",
       "      <td>0</td>\n",
       "    </tr>\n",
       "    <tr>\n",
       "      <th>3</th>\n",
       "      <td>wpzdzqqtbukqshxijyfnmejmndrcbwkn.mp4</td>\n",
       "      <td>0</td>\n",
       "    </tr>\n",
       "    <tr>\n",
       "      <th>4</th>\n",
       "      <td>uovbjolnmhuqifggftmlfmubtlgnsuii.mp4</td>\n",
       "      <td>1</td>\n",
       "    </tr>\n",
       "    <tr>\n",
       "      <th>...</th>\n",
       "      <td>...</td>\n",
       "      <td>...</td>\n",
       "    </tr>\n",
       "    <tr>\n",
       "      <th>32924</th>\n",
       "      <td>wrhjaljhlkabyfvruxmrujcbsvusyqjf.mp4</td>\n",
       "      <td>1</td>\n",
       "    </tr>\n",
       "    <tr>\n",
       "      <th>32925</th>\n",
       "      <td>lonjcbnyfrqcrpnqrorxukvupesbxdwn.mp4</td>\n",
       "      <td>1</td>\n",
       "    </tr>\n",
       "    <tr>\n",
       "      <th>32926</th>\n",
       "      <td>hsrtndkfefvekezivilgglbvkwtaiyre.mp4</td>\n",
       "      <td>0</td>\n",
       "    </tr>\n",
       "    <tr>\n",
       "      <th>32927</th>\n",
       "      <td>hwzrpginrnfmxtlcwmrqstiwzuqdkvma.mp4</td>\n",
       "      <td>0</td>\n",
       "    </tr>\n",
       "    <tr>\n",
       "      <th>32928</th>\n",
       "      <td>speazzcihwlivzyekhsmpvjtjwwmcymn.mp4</td>\n",
       "      <td>1</td>\n",
       "    </tr>\n",
       "  </tbody>\n",
       "</table>\n",
       "<p>32929 rows × 2 columns</p>\n",
       "</div>"
      ],
      "text/plain": [
       "                                   filename  label\n",
       "0      hbpftunjjtmtdpryrphflbayyrtiglvi.mp4      0\n",
       "1      cvxvolmegmnncexlpbmsshvsbiwldzlj.mp4      0\n",
       "2      mzehjhnblzxvhndmxwarnbxaktggxxto.mp4      0\n",
       "3      wpzdzqqtbukqshxijyfnmejmndrcbwkn.mp4      0\n",
       "4      uovbjolnmhuqifggftmlfmubtlgnsuii.mp4      1\n",
       "...                                     ...    ...\n",
       "32924  wrhjaljhlkabyfvruxmrujcbsvusyqjf.mp4      1\n",
       "32925  lonjcbnyfrqcrpnqrorxukvupesbxdwn.mp4      1\n",
       "32926  hsrtndkfefvekezivilgglbvkwtaiyre.mp4      0\n",
       "32927  hwzrpginrnfmxtlcwmrqstiwzuqdkvma.mp4      0\n",
       "32928  speazzcihwlivzyekhsmpvjtjwwmcymn.mp4      1\n",
       "\n",
       "[32929 rows x 2 columns]"
      ]
     },
     "execution_count": 12,
     "metadata": {},
     "output_type": "execute_result"
    }
   ],
   "source": [
    "folds[1][0]\n"
   ]
  },
  {
   "cell_type": "code",
   "execution_count": 13,
   "id": "48753a7e-93f4-44ca-8300-08f7050bcd1a",
   "metadata": {},
   "outputs": [
    {
     "name": "stdout",
     "output_type": "stream",
     "text": [
      "0\n",
      "(32928, 2) (8233, 2)\n",
      "0\n",
      "0.3412900874635568\n",
      "0.3413093647516094\n",
      "\n",
      "1\n",
      "(32929, 2) (8232, 2)\n",
      "0\n",
      "0.34127972304048104\n",
      "0.34135082604470357\n",
      "\n",
      "2\n",
      "(32929, 2) (8232, 2)\n",
      "0\n",
      "0.34127972304048104\n",
      "0.34135082604470357\n",
      "\n",
      "3\n",
      "(32929, 2) (8232, 2)\n",
      "0\n",
      "0.3413100914087886\n",
      "0.34122934888241013\n",
      "\n",
      "4\n",
      "(32929, 2) (8232, 2)\n",
      "0\n",
      "0.3413100914087886\n",
      "0.34122934888241013\n",
      "\n"
     ]
    }
   ],
   "source": [
    "for fold_idx in range(5):\n",
    "    print(fold_idx)\n",
    "    print(folds[fold_idx][0].shape, folds[fold_idx][1].shape)\n",
    "    print(len(set(folds[fold_idx][0].filename) & set(folds[fold_idx][1].filename)))\n",
    "    print(folds[fold_idx][0].label.sum() / len(folds[fold_idx][0]))\n",
    "    print(folds[fold_idx][1].label.sum() / len(folds[fold_idx][1]))\n",
    "    print()"
   ]
  },
  {
   "cell_type": "code",
   "execution_count": 10,
   "id": "8a6a7c1a-727f-490f-a24b-ebc56330753a",
   "metadata": {},
   "outputs": [
    {
     "data": {
      "text/html": [
       "<div>\n",
       "<style scoped>\n",
       "    .dataframe tbody tr th:only-of-type {\n",
       "        vertical-align: middle;\n",
       "    }\n",
       "\n",
       "    .dataframe tbody tr th {\n",
       "        vertical-align: top;\n",
       "    }\n",
       "\n",
       "    .dataframe thead th {\n",
       "        text-align: right;\n",
       "    }\n",
       "</style>\n",
       "<table border=\"1\" class=\"dataframe\">\n",
       "  <thead>\n",
       "    <tr style=\"text-align: right;\">\n",
       "      <th></th>\n",
       "      <th>filename</th>\n",
       "      <th>label</th>\n",
       "    </tr>\n",
       "  </thead>\n",
       "  <tbody>\n",
       "    <tr>\n",
       "      <th>0</th>\n",
       "      <td>hbpftunjjtmtdpryrphflbayyrtiglvi.mp4</td>\n",
       "      <td>0</td>\n",
       "    </tr>\n",
       "    <tr>\n",
       "      <th>1</th>\n",
       "      <td>cvxvolmegmnncexlpbmsshvsbiwldzlj.mp4</td>\n",
       "      <td>0</td>\n",
       "    </tr>\n",
       "    <tr>\n",
       "      <th>2</th>\n",
       "      <td>mzehjhnblzxvhndmxwarnbxaktggxxto.mp4</td>\n",
       "      <td>0</td>\n",
       "    </tr>\n",
       "    <tr>\n",
       "      <th>3</th>\n",
       "      <td>wpzdzqqtbukqshxijyfnmejmndrcbwkn.mp4</td>\n",
       "      <td>0</td>\n",
       "    </tr>\n",
       "    <tr>\n",
       "      <th>4</th>\n",
       "      <td>uovbjolnmhuqifggftmlfmubtlgnsuii.mp4</td>\n",
       "      <td>1</td>\n",
       "    </tr>\n",
       "  </tbody>\n",
       "</table>\n",
       "</div>"
      ],
      "text/plain": [
       "                               filename  label\n",
       "0  hbpftunjjtmtdpryrphflbayyrtiglvi.mp4      0\n",
       "1  cvxvolmegmnncexlpbmsshvsbiwldzlj.mp4      0\n",
       "2  mzehjhnblzxvhndmxwarnbxaktggxxto.mp4      0\n",
       "3  wpzdzqqtbukqshxijyfnmejmndrcbwkn.mp4      0\n",
       "4  uovbjolnmhuqifggftmlfmubtlgnsuii.mp4      1"
      ]
     },
     "metadata": {},
     "output_type": "display_data"
    },
    {
     "data": {
      "text/html": [
       "<div>\n",
       "<style scoped>\n",
       "    .dataframe tbody tr th:only-of-type {\n",
       "        vertical-align: middle;\n",
       "    }\n",
       "\n",
       "    .dataframe tbody tr th {\n",
       "        vertical-align: top;\n",
       "    }\n",
       "\n",
       "    .dataframe thead th {\n",
       "        text-align: right;\n",
       "    }\n",
       "</style>\n",
       "<table border=\"1\" class=\"dataframe\">\n",
       "  <thead>\n",
       "    <tr style=\"text-align: right;\">\n",
       "      <th></th>\n",
       "      <th>filename</th>\n",
       "      <th>label</th>\n",
       "    </tr>\n",
       "  </thead>\n",
       "  <tbody>\n",
       "    <tr>\n",
       "      <th>0</th>\n",
       "      <td>hbpftunjjtmtdpryrphflbayyrtiglvi.mp4</td>\n",
       "      <td>0</td>\n",
       "    </tr>\n",
       "    <tr>\n",
       "      <th>1</th>\n",
       "      <td>cvxvolmegmnncexlpbmsshvsbiwldzlj.mp4</td>\n",
       "      <td>0</td>\n",
       "    </tr>\n",
       "    <tr>\n",
       "      <th>2</th>\n",
       "      <td>mzehjhnblzxvhndmxwarnbxaktggxxto.mp4</td>\n",
       "      <td>0</td>\n",
       "    </tr>\n",
       "    <tr>\n",
       "      <th>3</th>\n",
       "      <td>wpzdzqqtbukqshxijyfnmejmndrcbwkn.mp4</td>\n",
       "      <td>0</td>\n",
       "    </tr>\n",
       "    <tr>\n",
       "      <th>4</th>\n",
       "      <td>uovbjolnmhuqifggftmlfmubtlgnsuii.mp4</td>\n",
       "      <td>1</td>\n",
       "    </tr>\n",
       "  </tbody>\n",
       "</table>\n",
       "</div>"
      ],
      "text/plain": [
       "                               filename  label\n",
       "0  hbpftunjjtmtdpryrphflbayyrtiglvi.mp4      0\n",
       "1  cvxvolmegmnncexlpbmsshvsbiwldzlj.mp4      0\n",
       "2  mzehjhnblzxvhndmxwarnbxaktggxxto.mp4      0\n",
       "3  wpzdzqqtbukqshxijyfnmejmndrcbwkn.mp4      0\n",
       "4  uovbjolnmhuqifggftmlfmubtlgnsuii.mp4      1"
      ]
     },
     "metadata": {},
     "output_type": "display_data"
    },
    {
     "data": {
      "text/html": [
       "<div>\n",
       "<style scoped>\n",
       "    .dataframe tbody tr th:only-of-type {\n",
       "        vertical-align: middle;\n",
       "    }\n",
       "\n",
       "    .dataframe tbody tr th {\n",
       "        vertical-align: top;\n",
       "    }\n",
       "\n",
       "    .dataframe thead th {\n",
       "        text-align: right;\n",
       "    }\n",
       "</style>\n",
       "<table border=\"1\" class=\"dataframe\">\n",
       "  <thead>\n",
       "    <tr style=\"text-align: right;\">\n",
       "      <th></th>\n",
       "      <th>filename</th>\n",
       "      <th>label</th>\n",
       "    </tr>\n",
       "  </thead>\n",
       "  <tbody>\n",
       "    <tr>\n",
       "      <th>0</th>\n",
       "      <td>hbpftunjjtmtdpryrphflbayyrtiglvi.mp4</td>\n",
       "      <td>0</td>\n",
       "    </tr>\n",
       "    <tr>\n",
       "      <th>1</th>\n",
       "      <td>cvxvolmegmnncexlpbmsshvsbiwldzlj.mp4</td>\n",
       "      <td>0</td>\n",
       "    </tr>\n",
       "    <tr>\n",
       "      <th>2</th>\n",
       "      <td>mzehjhnblzxvhndmxwarnbxaktggxxto.mp4</td>\n",
       "      <td>0</td>\n",
       "    </tr>\n",
       "    <tr>\n",
       "      <th>3</th>\n",
       "      <td>wpzdzqqtbukqshxijyfnmejmndrcbwkn.mp4</td>\n",
       "      <td>0</td>\n",
       "    </tr>\n",
       "    <tr>\n",
       "      <th>4</th>\n",
       "      <td>uovbjolnmhuqifggftmlfmubtlgnsuii.mp4</td>\n",
       "      <td>1</td>\n",
       "    </tr>\n",
       "  </tbody>\n",
       "</table>\n",
       "</div>"
      ],
      "text/plain": [
       "                               filename  label\n",
       "0  hbpftunjjtmtdpryrphflbayyrtiglvi.mp4      0\n",
       "1  cvxvolmegmnncexlpbmsshvsbiwldzlj.mp4      0\n",
       "2  mzehjhnblzxvhndmxwarnbxaktggxxto.mp4      0\n",
       "3  wpzdzqqtbukqshxijyfnmejmndrcbwkn.mp4      0\n",
       "4  uovbjolnmhuqifggftmlfmubtlgnsuii.mp4      1"
      ]
     },
     "metadata": {},
     "output_type": "display_data"
    },
    {
     "data": {
      "text/html": [
       "<div>\n",
       "<style scoped>\n",
       "    .dataframe tbody tr th:only-of-type {\n",
       "        vertical-align: middle;\n",
       "    }\n",
       "\n",
       "    .dataframe tbody tr th {\n",
       "        vertical-align: top;\n",
       "    }\n",
       "\n",
       "    .dataframe thead th {\n",
       "        text-align: right;\n",
       "    }\n",
       "</style>\n",
       "<table border=\"1\" class=\"dataframe\">\n",
       "  <thead>\n",
       "    <tr style=\"text-align: right;\">\n",
       "      <th></th>\n",
       "      <th>filename</th>\n",
       "      <th>label</th>\n",
       "    </tr>\n",
       "  </thead>\n",
       "  <tbody>\n",
       "    <tr>\n",
       "      <th>0</th>\n",
       "      <td>syazikwrwttednkhabmyjxoaevcusgtp.mp4</td>\n",
       "      <td>0</td>\n",
       "    </tr>\n",
       "    <tr>\n",
       "      <th>1</th>\n",
       "      <td>vkrbadsqdfqjswfngbcsbedrizfzcfvz.mp4</td>\n",
       "      <td>1</td>\n",
       "    </tr>\n",
       "    <tr>\n",
       "      <th>2</th>\n",
       "      <td>gwllhahscgkbbjrhhtgmeqfzojxttfcn.mp4</td>\n",
       "      <td>0</td>\n",
       "    </tr>\n",
       "    <tr>\n",
       "      <th>3</th>\n",
       "      <td>edrwbjdudlfgnhqoocacqqpgefevsunc.mp4</td>\n",
       "      <td>0</td>\n",
       "    </tr>\n",
       "    <tr>\n",
       "      <th>4</th>\n",
       "      <td>iplkymizphfjdhrwdefyskdxjfqhsijp.mp4</td>\n",
       "      <td>0</td>\n",
       "    </tr>\n",
       "  </tbody>\n",
       "</table>\n",
       "</div>"
      ],
      "text/plain": [
       "                               filename  label\n",
       "0  syazikwrwttednkhabmyjxoaevcusgtp.mp4      0\n",
       "1  vkrbadsqdfqjswfngbcsbedrizfzcfvz.mp4      1\n",
       "2  gwllhahscgkbbjrhhtgmeqfzojxttfcn.mp4      0\n",
       "3  edrwbjdudlfgnhqoocacqqpgefevsunc.mp4      0\n",
       "4  iplkymizphfjdhrwdefyskdxjfqhsijp.mp4      0"
      ]
     },
     "metadata": {},
     "output_type": "display_data"
    },
    {
     "data": {
      "text/html": [
       "<div>\n",
       "<style scoped>\n",
       "    .dataframe tbody tr th:only-of-type {\n",
       "        vertical-align: middle;\n",
       "    }\n",
       "\n",
       "    .dataframe tbody tr th {\n",
       "        vertical-align: top;\n",
       "    }\n",
       "\n",
       "    .dataframe thead th {\n",
       "        text-align: right;\n",
       "    }\n",
       "</style>\n",
       "<table border=\"1\" class=\"dataframe\">\n",
       "  <thead>\n",
       "    <tr style=\"text-align: right;\">\n",
       "      <th></th>\n",
       "      <th>filename</th>\n",
       "      <th>label</th>\n",
       "    </tr>\n",
       "  </thead>\n",
       "  <tbody>\n",
       "    <tr>\n",
       "      <th>0</th>\n",
       "      <td>hbpftunjjtmtdpryrphflbayyrtiglvi.mp4</td>\n",
       "      <td>0</td>\n",
       "    </tr>\n",
       "    <tr>\n",
       "      <th>1</th>\n",
       "      <td>cvxvolmegmnncexlpbmsshvsbiwldzlj.mp4</td>\n",
       "      <td>0</td>\n",
       "    </tr>\n",
       "    <tr>\n",
       "      <th>2</th>\n",
       "      <td>mzehjhnblzxvhndmxwarnbxaktggxxto.mp4</td>\n",
       "      <td>0</td>\n",
       "    </tr>\n",
       "    <tr>\n",
       "      <th>3</th>\n",
       "      <td>wpzdzqqtbukqshxijyfnmejmndrcbwkn.mp4</td>\n",
       "      <td>0</td>\n",
       "    </tr>\n",
       "    <tr>\n",
       "      <th>4</th>\n",
       "      <td>uovbjolnmhuqifggftmlfmubtlgnsuii.mp4</td>\n",
       "      <td>1</td>\n",
       "    </tr>\n",
       "  </tbody>\n",
       "</table>\n",
       "</div>"
      ],
      "text/plain": [
       "                               filename  label\n",
       "0  hbpftunjjtmtdpryrphflbayyrtiglvi.mp4      0\n",
       "1  cvxvolmegmnncexlpbmsshvsbiwldzlj.mp4      0\n",
       "2  mzehjhnblzxvhndmxwarnbxaktggxxto.mp4      0\n",
       "3  wpzdzqqtbukqshxijyfnmejmndrcbwkn.mp4      0\n",
       "4  uovbjolnmhuqifggftmlfmubtlgnsuii.mp4      1"
      ]
     },
     "metadata": {},
     "output_type": "display_data"
    }
   ],
   "source": [
    "display(folds[0][0].head())\n",
    "display(folds[1][0].head())\n",
    "display(folds[2][0].head())\n",
    "display(folds[3][0].head())\n",
    "display(folds[4][0].head())"
   ]
  }
 ],
 "metadata": {
  "kernelspec": {
   "display_name": "Python 3 (ipykernel)",
   "language": "python",
   "name": "python3"
  },
  "language_info": {
   "codemirror_mode": {
    "name": "ipython",
    "version": 3
   },
   "file_extension": ".py",
   "mimetype": "text/x-python",
   "name": "python",
   "nbconvert_exporter": "python",
   "pygments_lexer": "ipython3",
   "version": "3.7.11"
  }
 },
 "nbformat": 4,
 "nbformat_minor": 5
}
